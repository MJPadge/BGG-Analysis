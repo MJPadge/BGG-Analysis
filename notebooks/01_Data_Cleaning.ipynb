{
 "cells": [
  {
   "cell_type": "markdown",
   "id": "cc55167f-73c6-4f25-8c7f-19b70102287d",
   "metadata": {},
   "source": [
    "# Data Cleaning and Preparation\n",
    "Before we jump into the EDA (explortory data analysis), we need to get our data cleaned and ready.\n",
    "\n",
    "# Where is the data from?\n",
    "This project uses data that has been scraped from Board Game Geek (https://boardgamegeek.com) and made available on Kaggle.\n",
    "\n",
    "**Source** [Board Game Reviews - Jan 2025] https://www.kaggle.com/datasets/bwandowando/boardgamegeek-board-games-reviews-jan-2025\n",
    "\n",
    "**Author Credit** [bwandowando] https://www.kaggle.com/bwandowando\n",
    "\n",
    "# The Raw Data\n",
    "The dataset consists of 4 csv files with some of the fields shown below:\n",
    "- boardgames (Titles, Descriptions, Release Year, Ratings)\n",
    "- boardgames_reviews (Pseudo Users, Comments, Post Date, Rating)\n",
    "- users (Pseudo Users, Location, Badges)\n",
    "- user_game_status (Pseudo Users, Ownership, Wishlisted)\n",
    "\n",
    "---\n",
    "\n",
    "Before loading the raw data into Jupyter Notebooks, I completed some intial data cleaining in SQL.\n"
   ]
  },
  {
   "attachments": {},
   "cell_type": "markdown",
   "id": "422cdd86-2ebc-40f0-9fbd-23a87c6b057a",
   "metadata": {},
   "source": [
    "## boardgames.csv\n",
    "The raw boardgames csv file initially looks like this:\n",
    "\n",
    "![Raw_boardgames_file](../images/Raw_boardgames_file.png)\n",
    "\n",
    "---\n",
    "\n",
    "The changes I made to this file are:\n",
    "- Renamed column headers (more for personal preference, but it also helps me to remember what fields I have)\n",
    "- Removed \"link\" and \"thumbnail\" as I dont currently need them\n",
    "\n",
    "I then ran the below SQL code:\n",
    "![boardgames_file_SQL_code](../images/boardgames_file_SQL_code.png).\"Rn\" = 1 \r\n",
    "ORDER BY \t\r\n",
    "\ta.\"Rank\";\n",
    "\n"
   ]
  },
  {
   "cell_type": "code",
   "execution_count": null,
   "id": "7c98f369-2c53-455f-b359-e7f706a6de82",
   "metadata": {},
   "outputs": [],
   "source": []
  }
 ],
 "metadata": {
  "kernelspec": {
   "display_name": "anaconda-ai-2024.04-py310",
   "language": "python",
   "name": "conda-env-anaconda-ai-2024.04-py310-py"
  },
  "language_info": {
   "codemirror_mode": {
    "name": "ipython",
    "version": 3
   },
   "file_extension": ".py",
   "mimetype": "text/x-python",
   "name": "python",
   "nbconvert_exporter": "python",
   "pygments_lexer": "ipython3",
   "version": "3.10.13"
  }
 },
 "nbformat": 4,
 "nbformat_minor": 5
}
