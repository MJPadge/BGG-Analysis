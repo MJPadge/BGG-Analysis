{
 "cells": [
  {
   "cell_type": "markdown",
   "id": "cc55167f-73c6-4f25-8c7f-19b70102287d",
   "metadata": {},
   "source": [
    "# Data cleaning and preparation\n",
    "Before we jump into the EDA (explortory data analysis), we need to get our data cleaned and ready.\n",
    "\n",
    "# Where is the data from?\n",
    "This project uses data that has been scraped from Board Game Geek (https://boardgamegeek.com) and made available on Kaggle.\n",
    "\n",
    "**Source** [Board Game Reviews - Jan 2025] https://www.kaggle.com/datasets/bwandowando/boardgamegeek-board-games-reviews-jan-2025\n",
    "\n",
    "**Author Credit** [bwandowando] https://www.kaggle.com/bwandowando\n",
    "\n",
    "# About the raw data\n",
    "The dataset consists of 4 csv files with some of the fields shown below:\n",
    "- boardgames (Titles, Descriptions, Release Year, Ratings)\n",
    "- boardgames_reviews (Pseudo Users, Comments, Post Date, Rating)\n",
    "- users (Pseudo Users, Location, Badges)\n",
    "- user_game_status (Pseudo Users, Ownership, Wishlisted)\n",
    "\n",
    "Before loading the raw data into Jupyter Notebooks, I completed some intial data cleaining in SQL.\n",
    "\n",
    "---\n"
   ]
  },
  {
   "cell_type": "markdown",
   "id": "b4332581-ddd9-492c-9dcd-41f45a3af9f2",
   "metadata": {},
   "source": [
    "## boardgames.csv\n",
    "The raw boardgames csv file initially looks like this:\n",
    "\n",
    "![Raw_boardgames_file](../images/Raw_boardgames_file.png)\n",
    "\n",
    "# The changes I made to this file are:\n",
    "- Renamed column headers (more for personal preference, but it also helps me to remember w\n",
    "- hat fields I have)\n",
    "- Removed \"link\" and \"thumbnail\" as I don't currently need them\n",
    "\n",
    "I then ran the below SQL code:\n",
    "![boardgames_file_SQL_code](../images/boardgames_file_SQL_code.png)\n",
    "\n",
    "Which can be copied below:\n",
    "\n",
    "SELECT\n",
    "\ta.\"Rank\",\n",
    "\ta.\"Game ID\",\n",
    "\ta.\"Title\",\n",
    "\ta.\"Description\",\n",
    "\ta.\"Release Year\",\n",
    "\ta.\"Geek Rating\",\n",
    "\ta.\"Avg Rating\",\n",
    "\ta.\"Voters\"\n",
    "FROM\n",
    "\t( \tSELECT \n",
    "\t\t\tROW_NUMBER () OVER ( PARTITION BY a.\"Game ID\" ORDER BY a.\"Game ID\" ) AS \"Rn\",\n",
    "\t\t\ta.\"Rank\",\n",
    "\t\t\ta.\"Game ID\",\n",
    "\t\t\ta.\"Title\",\n",
    "\t\t\ta.\"Description\",\n",
    "\t\t\ta.\"Year\" AS \"Release Year\",\n",
    "\t\t\ta.\"Geek Rating\",\n",
    "\t\t\ta.\"Avg Rating\",\n",
    "\t\t\ta.\"Voters\"\t\n",
    "\t\tFROM \t\n",
    "\t\t\tdbo.\"BPP - Board Games\" a\n",
    "\t\tWHERE \t\n",
    "\t\t\ta.\"Geek Rating\" IS NOT NULL \n",
    "\t\tAND \t\n",
    "\t\t\ta.\"Year\" IS NOT NULL \t\t\n",
    "\t\tAND\t\t\n",
    "\t\t\ta.\"Game ID\" IS NOT NULL \t\t\t\t\n",
    "\t\tAND \t\n",
    "\t\t\ta.\"Rank\" IS NOT NULL\t\t\n",
    "\t\tAND\n",
    "\t\t \ta.\"Year\" < 2024\n",
    "\t) a\n",
    "WHERE a.\"Rn\" = 1 \n",
    "ORDER BY a.\"Rank\"\n",
    "\n",
    "# What does this do?\n",
    "\n",
    "- The Raw file consists of 161,404 \"board games\". I use quotes here as I would argue not every entry is actually a board game.\n",
    "- Firstly, any game without a \"Geek Rating\" is removed. More details about the Geek rating are below. This reduce our list of games from 161,404 to 38,059.\n",
    "- Some games do not have a release year. Perhaps no one knows when these games were released. Anyway, they were removed from the dataset reducing the total by a further 276 to 37,783 games. Games without a release year included things like Go Fish and Poker Dice etc.\n",
    "- Some games did not feature a \"Game ID\" or a \"Rank\". These were often game expansions and second editions. These were all excluded removing a further 10,943 leaving 26,840. That's still a lot of games!\n",
    "- Any duplicate \"Game ID\" were also removed, just in case, but there were no duplicates, but seemed silly to remove the code which was doing no harm.\n",
    "- Lastly, I removed any games released in 2024. This is because I want to work with full years worth of data. This ensured every game on the list can contain at least one years worth of data. This removed another 1,045 games.\n",
    "\n",
    "This leaves our starting pot of games at...\n",
    "# 25,795"
   ]
  },
  {
   "cell_type": "markdown",
   "id": "cd632c05-1fb1-4347-b734-e1d499cd4d5b",
   "metadata": {},
   "source": [
    "# What is a Geek Rating?\n",
    "To receive a geek rating, a game must have at least 30 votes (or reviews)\n"
   ]
  },
  {
   "cell_type": "code",
   "execution_count": null,
   "id": "3b3c5bc3-3db1-46ea-a1de-4aa21cc2bdba",
   "metadata": {},
   "outputs": [],
   "source": []
  }
 ],
 "metadata": {
  "kernelspec": {
   "display_name": "anaconda-ai-2024.04-py310",
   "language": "python",
   "name": "conda-env-anaconda-ai-2024.04-py310-py"
  },
  "language_info": {
   "codemirror_mode": {
    "name": "ipython",
    "version": 3
   },
   "file_extension": ".py",
   "mimetype": "text/x-python",
   "name": "python",
   "nbconvert_exporter": "python",
   "pygments_lexer": "ipython3",
   "version": "3.10.13"
  }
 },
 "nbformat": 4,
 "nbformat_minor": 5
}
