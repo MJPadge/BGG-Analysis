## Data Cleaining
Before we jump into the EDA (explortory data analysis), we need to get out data cleaned and ready.

# Getting the data
Data has been sourced from Kaggle
